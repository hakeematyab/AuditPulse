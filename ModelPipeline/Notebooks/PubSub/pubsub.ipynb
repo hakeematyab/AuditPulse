{
 "cells": [
  {
   "cell_type": "markdown",
   "metadata": {},
   "source": [
    "### Setup"
   ]
  },
  {
   "cell_type": "code",
   "execution_count": 5,
   "metadata": {},
   "outputs": [],
   "source": [
    "from google.cloud import pubsub_v1\n",
    "import json\n",
    "import requests\n",
    "import mysql.connector\n",
    "import os\n",
    "from datetime import datetime"
   ]
  },
  {
   "cell_type": "markdown",
   "metadata": {},
   "source": [
    "### Publiser"
   ]
  },
  {
   "cell_type": "code",
   "execution_count": 17,
   "metadata": {},
   "outputs": [],
   "source": [
    "topic_path = 'projects/auditpulse/topics/deployment-request-queue'\n",
    "data = {\n",
    "         'run_id': 81102,\n",
    "         'user_id':1023,\n",
    "         'central_index_key': '1249',\n",
    "         'company_name':\"Some Inc.\",\n",
    "         'ticker':'SINC',\n",
    "         'year':2025\n",
    "        }\n",
    "\n",
    "jsonstring = json.dumps(data)\n",
    "jsonstring = jsonstring.encode('utf-8')\n",
    "publisher = pubsub_v1.PublisherClient()\n",
    "future = publisher.publish(topic_path, jsonstring)"
   ]
  },
  {
   "cell_type": "markdown",
   "metadata": {},
   "source": [
    "### Subscriber"
   ]
  },
  {
   "cell_type": "code",
   "execution_count": 18,
   "metadata": {},
   "outputs": [
    {
     "name": "stdout",
     "output_type": "stream",
     "text": [
      "Data Received: Message {\n",
      "  data: b'{\"run_id\": 81102, \"user_id\": 1023, \"central_index_...'\n",
      "  ordering_key: ''\n",
      "  attributes: {}\n",
      "}\n"
     ]
    }
   ],
   "source": [
    "def sub_callback(message):\n",
    "    print(f'Data Received: {message}')\n",
    "    global msg\n",
    "    msg = message\n",
    "    message.ack()\n",
    "msg = None\n",
    "subscriber_path = 'projects/auditpulse/subscriptions/deployment-request-queue-sub'\n",
    "subscriber = pubsub_v1.SubscriberClient()\n",
    "subscriber_future = subscriber.subscribe(subscriber_path, callback=sub_callback)\n",
    "result = None\n",
    "with subscriber:\n",
    "    try:\n",
    "        result = subscriber_future.result(timeout=5)\n",
    "    except:\n",
    "        subscriber_future.cancel()\n",
    "        result = subscriber_future.result()"
   ]
  },
  {
   "cell_type": "code",
   "execution_count": 19,
   "metadata": {},
   "outputs": [
    {
     "data": {
      "text/plain": [
       "Message {\n",
       "  data: b'{\"run_id\": 81102, \"user_id\": 1023, \"central_index_...'\n",
       "  ordering_key: ''\n",
       "  attributes: {}\n",
       "}"
      ]
     },
     "execution_count": 19,
     "metadata": {},
     "output_type": "execute_result"
    }
   ],
   "source": [
    "msg"
   ]
  },
  {
   "cell_type": "code",
   "execution_count": 20,
   "metadata": {},
   "outputs": [
    {
     "data": {
      "text/plain": [
       "{'run_id': 81102,\n",
       " 'user_id': 1023,\n",
       " 'central_index_key': '1249',\n",
       " 'company_name': 'Some Inc.',\n",
       " 'ticker': 'SINC',\n",
       " 'year': 2025}"
      ]
     },
     "execution_count": 20,
     "metadata": {},
     "output_type": "execute_result"
    }
   ],
   "source": [
    "json.loads(msg.data)"
   ]
  },
  {
   "cell_type": "markdown",
   "metadata": {},
   "source": [
    "### Update Table"
   ]
  },
  {
   "cell_type": "code",
   "execution_count": 6,
   "metadata": {},
   "outputs": [],
   "source": [
    "mysql_conn = mysql.connector.connect(\n",
    "    host='34.46.191.121',\n",
    "    port=3306,\n",
    "    user='root',\n",
    "    database='auditpulse',\n",
    "    password=os.getenv('MYSQL_GCP_PASS')\n",
    ")"
   ]
  },
  {
   "cell_type": "code",
   "execution_count": 9,
   "metadata": {},
   "outputs": [],
   "source": [
    "mysql_cursor = mysql_conn.cursor()\n",
    "\n",
    "query = \"\"\"\n",
    "INSERT INTO runs \n",
    "(run_id, run_at, user_id, cik, ticker, company_name, year, status)\n",
    "VALUES \n",
    "(%s, %s, %s, %s, %s, %s, %s, %s)\n",
    "\"\"\"\n",
    "\n",
    "# Current timestamp for run_at\n",
    "current_time = datetime.now()\n",
    "\n",
    "# Values to insert\n",
    "values = (\n",
    "    \"81102\",\n",
    "    current_time,\n",
    "    \"1023\",\n",
    "    \"320193\",\n",
    "    \"AAPL\",\n",
    "    \"Apple Inc.\",\n",
    "    2025,\n",
    "    \"queued\"\n",
    ")\n",
    "\n",
    "mysql_cursor.execute(query,values)\n",
    "mysql_conn.commit()"
   ]
  },
  {
   "cell_type": "markdown",
   "metadata": {},
   "source": [
    "### Request"
   ]
  },
  {
   "cell_type": "code",
   "execution_count": 12,
   "metadata": {},
   "outputs": [],
   "source": [
    "data = {\n",
    "         'run_id': \"81102\",\n",
    "         'user_id':\"1023\",\n",
    "         'central_index_key': '320193',\n",
    "         'company_name':\"AAPL\",\n",
    "         'ticker':'Apple Inc.',\n",
    "         'year':2025\n",
    "        }\n",
    "\n",
    "jsonstring = json.dumps(data)\n",
    "# jsonstring = jsonstring.encode('utf-8')"
   ]
  },
  {
   "cell_type": "code",
   "execution_count": 14,
   "metadata": {},
   "outputs": [],
   "source": [
    "endpoint = 'http://127.0.0.1:5000/generate'\n",
    "response = requests.post(endpoint, json={'message':{'data':jsonstring}})"
   ]
  },
  {
   "cell_type": "code",
   "execution_count": 30,
   "metadata": {},
   "outputs": [
    {
     "data": {
      "text/plain": [
       "'{\\n  \"message\": \"Report generated!\",\\n  \"status\": \"Success!\"\\n}\\n'"
      ]
     },
     "execution_count": 30,
     "metadata": {},
     "output_type": "execute_result"
    }
   ],
   "source": [
    "response.text"
   ]
  }
 ],
 "metadata": {
  "kernelspec": {
   "display_name": "MultiAgentSystem",
   "language": "python",
   "name": "python3"
  },
  "language_info": {
   "codemirror_mode": {
    "name": "ipython",
    "version": 3
   },
   "file_extension": ".py",
   "mimetype": "text/x-python",
   "name": "python",
   "nbconvert_exporter": "python",
   "pygments_lexer": "ipython3",
   "version": "3.12.9"
  }
 },
 "nbformat": 4,
 "nbformat_minor": 2
}
