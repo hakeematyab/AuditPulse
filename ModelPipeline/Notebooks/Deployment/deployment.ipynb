{
 "cells": [
  {
   "cell_type": "code",
   "execution_count": 34,
   "id": "ff41e7b9",
   "metadata": {},
   "outputs": [],
   "source": [
    "import subprocess\n",
    "import mysql.connector\n",
    "import os"
   ]
  },
  {
   "cell_type": "code",
   "execution_count": 40,
   "id": "07697596",
   "metadata": {},
   "outputs": [],
   "source": [
    "mysql_conn = mysql.connector.connect(\n",
    "    host='34.46.191.121',\n",
    "    port=3306,\n",
    "    user='root',\n",
    "    database='auditpulse',\n",
    "    password=os.getenv('MYSQL_GCP_PASS')\n",
    ")\n",
    "\n",
    "mysql_cursor = mysql_conn.cursor()\n",
    "\n",
    "query = \"\"\"\n",
    "SELECT COUNT(*) FROM runs \n",
    "WHERE status='queued'\n",
    "\"\"\"\n",
    "mysql_cursor.execute(query)"
   ]
  },
  {
   "cell_type": "code",
   "execution_count": null,
   "id": "48ecb2ff",
   "metadata": {},
   "outputs": [
    {
     "data": {
      "text/plain": [
       "(0,)"
      ]
     },
     "execution_count": 41,
     "metadata": {},
     "output_type": "execute_result"
    }
   ],
   "source": [
    "result = mysql_cursor.fetchone()\n",
    "result\n",
    "print(f'Count: {result}')"
   ]
  },
  {
   "cell_type": "code",
   "execution_count": 49,
   "id": "b2c78749",
   "metadata": {},
   "outputs": [
    {
     "name": "stdout",
     "output_type": "stream",
     "text": [
      "Total time estimate: 21600s\n"
     ]
    }
   ],
   "source": [
    "count = 1000\n",
    "per_request_time_est = 15*60\n",
    "per_instance_request = 2\n",
    "threshold = 0.2\n",
    "max_time_allowed = 6*60*60\n",
    "total_time_est = count*per_request_time_est//per_instance_request\n",
    "total_time_est*=1+threshold\n",
    "total_time_est = int(total_time_est)\n",
    "total_time_est = min(total_time_est, max_time_allowed)\n",
    "print(f'Total time estimate: {total_time_est}s')"
   ]
  },
  {
   "cell_type": "code",
   "execution_count": 33,
   "id": "b0ec812f",
   "metadata": {},
   "outputs": [],
   "source": [
    "project_id = 'auditpulse'  # From your YAML namespace\n",
    "region = 'us-central1'       # From your YAML labels\n",
    "job_name = 'auditpulse-app'  # From your YAML metadata\n",
    "image = \"us-east1-docker.pkg.dev/auditpulse/auditpulse-images/auditpulse-app:latest\"\n",
    "\n",
    "# gcloud run jobs update auditpulse-app ^\n",
    "#   --image us-east1-docker.pkg.dev/auditpulse/auditpulse-images/auditpulse-app:latest ^\n",
    "#   --region us-central1 ^\n",
    "#   --project auditpulse ^\n",
    "#   --cpu 4000m ^\n",
    "#   --memory 2Gi ^\n",
    "#   --task-timeout 3600s ^\n",
    "#   --max-retries 1 ^\n",
    "#   --service-account 853525367358-compute@developer.gserviceaccount.com ^\n",
    "#   --set-secrets SERPER_API_KEY=SERPER_API_KEY:latest,AGENTOPS_API_KEY=AGENTOPS_API_KEY:latest,MYSQL_GCP_PASS=MYSQL_GCP_PASS:latest ^\n",
    "#   --execute-now\n",
    "\n",
    "cmd = [\n",
    "    \"gcloud\", \"run\", \"jobs\", \"update\", job_name,\n",
    "    \"--image\", image,\n",
    "    \"--region\", region,\n",
    "    \"--project\", project_id,\n",
    "    \"--cpu\", \"4000m\",\n",
    "    \"--memory\", \"2Gi\",\n",
    "    \"--task-timeout\", \"600s\",\n",
    "    \"--max-retries\", \"1\",\n",
    "    \"--tasks\", \"2\",\n",
    "    \"--service-account\",\"853525367358-compute@developer.gserviceaccount.com\",\n",
    "    \"--set-secrets\", \"SERPER_API_KEY=SERPER_API_KEY:latest,AGENTOPS_API_KEY=AGENTOPS_API_KEY:latest,MYSQL_GCP_PASS=MYSQL_GCP_PASS:latest\",\n",
    "    \"--execute-now\" \n",
    "]\n",
    "    \n",
    "# cmd_string = f\"gcloud run jobs update {job_name} --image {image} --region {region} --project {project_id} --cpu 4000m --memory 2Gi --task-timeout 3600s --max-retries 1 --service-account 853525367358-compute@developer.gserviceaccount.com --set-secrets 'SERPER_API_KEY=SERPER_API_KEY:latest,AGENTOPS_API_KEY=AGENTOPS_API_KEY:latest,MYSQL_GCP_PASS=MYSQL_GCP_PASS:latest' --execute-now\"\n",
    "    \n",
    "# result = subprocess.run(cmd_string, shell=True, check=True, capture_output=True)\n",
    "result = subprocess.run(cmd, shell=True, check=True, capture_output=True)"
   ]
  }
 ],
 "metadata": {
  "kernelspec": {
   "display_name": "MultiAgentSystem",
   "language": "python",
   "name": "python3"
  },
  "language_info": {
   "codemirror_mode": {
    "name": "ipython",
    "version": 3
   },
   "file_extension": ".py",
   "mimetype": "text/x-python",
   "name": "python",
   "nbconvert_exporter": "python",
   "pygments_lexer": "ipython3",
   "version": "3.12.9"
  }
 },
 "nbformat": 4,
 "nbformat_minor": 5
}
