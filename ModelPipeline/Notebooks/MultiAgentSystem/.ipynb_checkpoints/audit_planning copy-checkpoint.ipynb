{
 "cells": [
  {
   "cell_type": "markdown",
   "id": "bae53a09-c04c-4916-a146-00e0bb188954",
   "metadata": {},
   "source": [
    "# Audit Planning"
   ]
  },
  {
   "cell_type": "markdown",
   "id": "ece8c6f9-763c-47ea-b8e8-65001bd08aae",
   "metadata": {},
   "source": [
    "## Initial Imports"
   ]
  },
  {
   "cell_type": "code",
   "execution_count": null,
   "id": "41d1ce58-9d2e-4349-acbd-49227e37d31c",
   "metadata": {
    "height": 200
   },
   "outputs": [],
   "source": [
    "# Warning control\n",
    "import warnings\n",
    "warnings.filterwarnings('ignore')\n",
    "\n",
    "import os\n",
    "import yaml\n",
    "from crewai import Agent, Task, Crew\n",
    "from crewai.llm import LLM"
   ]
  },
  {
   "cell_type": "markdown",
   "id": "dd03a195-a1a5-4667-9108-24a7f9094618",
   "metadata": {},
   "source": [
    "## Loading Tasks and Agents YAML files"
   ]
  },
  {
   "cell_type": "code",
   "execution_count": null,
   "id": "f58e827a-8e2e-4f1d-8f8c-9486828f951d",
   "metadata": {
    "height": 268
   },
   "outputs": [],
   "source": [
    "# Define file paths for YAML configurations\n",
    "files = {\n",
    "    'agents': 'config/agents.yml',\n",
    "    'tasks': 'config/tasks.yml'\n",
    "}\n",
    "\n",
    "# Load configurations from YAML files\n",
    "configs = {}\n",
    "for config_type, file_path in files.items():\n",
    "    with open(file_path, 'r') as file:\n",
    "        configs[config_type] = yaml.safe_load(file)\n",
    "\n",
    "# Assign loaded configurations to specific variables\n",
    "agents_config = configs['agents']\n",
    "tasks_config = configs['tasks']"
   ]
  },
  {
   "cell_type": "markdown",
   "id": "e24d40ea-b1cc-42e9-bac2-1467103edfd8",
   "metadata": {},
   "source": [
    "## Importing CrewAI Tools"
   ]
  },
  {
   "cell_type": "code",
   "execution_count": null,
   "id": "33d2c719-9823-4d12-bd87-219f5145f7dc",
   "metadata": {
    "height": 45
   },
   "outputs": [],
   "source": [
    "from crewai_tools import SerperDevTool, ScrapeWebsiteTool, WebsiteSearchTool, JSONSearchTool, FileReadTool"
   ]
  },
  {
   "cell_type": "code",
   "execution_count": null,
   "id": "c3275f9f",
   "metadata": {
    "height": 47
   },
   "outputs": [],
   "source": [
    "pcaob_guidlines_tool = JSONSearchTool(config={\n",
    "        \"llm\": {\n",
    "            \"provider\": \"google\",\n",
    "            \"config\": {\n",
    "                \"model\": \"vertex_ai/gemini-2.0-flash-lite-001\",\n",
    "                \"temperature\": 0.2,\n",
    "            },\n",
    "        },\n",
    "        \"embedder\": {\n",
    "            \"provider\": \"google\",\n",
    "            \"config\": {\n",
    "                \"model\": \"vertex_ai/textembedding-gecko\",\n",
    "            },\n",
    "        },\n",
    "    },json_path='./data/compliance.json')\n",
    "\n",
    "website_search_tool = WebsiteSearchTool(config={\n",
    "        \"llm\": {\n",
    "            \"provider\": \"google\",\n",
    "            \"config\": {\n",
    "                \"model\": \"vertex_ai/gemini-2.0-flash-lite-001\",\n",
    "                \"temperature\": 0.2,\n",
    "            },\n",
    "        },\n",
    "        \"embedder\": {\n",
    "            \"provider\": \"google\",\n",
    "            \"config\": {\n",
    "                \"model\": \"vertex_ai/textembedding-gecko\",\n",
    "                \"task_type\":\"retrieval_document\",\n",
    "            },\n",
    "        },\n",
    "    })\n",
    "\n",
    "auditpulse_file_tool = FileReadTool(file_path=\"./data/AuditPulseInfo.md\")"
   ]
  },
  {
   "cell_type": "markdown",
   "id": "0cb0edba-dea0-4547-a61c-88ea6608c1a5",
   "metadata": {},
   "source": [
    "## Setup Multi LLM models"
   ]
  },
  {
   "cell_type": "markdown",
   "id": "5fe9d209",
   "metadata": {},
   "source": [
    "> Note: The 'llama-3.1-70b-versatil' model was deprecated. As a result, we updated it to the 'llama-3.3-70b-versatil' model in January 2025."
   ]
  },
  {
   "cell_type": "code",
   "execution_count": null,
   "id": "a655927f-c10c-4c06-852a-d9c96fdfbfb9",
   "metadata": {
    "height": 47
   },
   "outputs": [],
   "source": [
    "llm = LLM(\n",
    "    model=\"vertex_ai/gemini-2.0-flash-lite-001\",\n",
    "    temperature=0.2,\n",
    "    max_tokens=\t1024 \n",
    ")"
   ]
  },
  {
   "cell_type": "markdown",
   "id": "d71692a9-ff30-4497-a8df-25bf5b5a100e",
   "metadata": {},
   "source": [
    "## Creating Crew, Agents, and Tasks"
   ]
  },
  {
   "cell_type": "code",
   "execution_count": null,
   "id": "403153f6",
   "metadata": {
    "height": 1594
   },
   "outputs": [],
   "source": [
    "# Initialize Audit Planning Agent\n",
    "audit_planning_agent = Agent(\n",
    "    config=agents_config['audit_planning_agent'],\n",
    "    tools=[\n",
    "        SerperDevTool(), \n",
    "        ScrapeWebsiteTool(), \n",
    "        website_search_tool, \n",
    "        pcaob_guidlines_tool,\n",
    "        auditpulse_file_tool\n",
    "    ],\n",
    "    llm=llm,\n",
    "    respect_context_window=True,\n",
    ")\n",
    "\n",
    "# Creating CrewAI Tasks\n",
    "\n",
    "preliminary_engagement_task = Task(\n",
    "    config=tasks_config['audit_planning']['preliminary_engagement_review'],\n",
    "    async_execution=True,\n",
    "    agent=audit_planning_agent\n",
    ")\n",
    "\n",
    "business_risk_task = Task(\n",
    "    config=tasks_config['audit_planning']['business_understanding_and_risk_identification'],\n",
    "    async_execution=True,\n",
    "    agent=audit_planning_agent\n",
    ")\n",
    "\n",
    "internal_control_task = Task(\n",
    "    config=tasks_config['audit_planning']['internal_control_system_evaluation'],\n",
    "    async_execution=False,\n",
    "    agent=audit_planning_agent,\n",
    "    context=[preliminary_engagement_task, business_risk_task]\n",
    ")\n",
    "\n",
    "materiality_task = Task(\n",
    "    config=tasks_config['audit_planning']['materiality_determination_and_thresholds'],\n",
    "    async_execution=False,\n",
    "    agent=audit_planning_agent,\n",
    "    context=[preliminary_engagement_task, business_risk_task, internal_control_task]\n",
    ")\n",
    "\n",
    "fraud_risk_task = Task(\n",
    "    config=tasks_config['audit_planning']['fraud_risk_assessment_and_susceptibility_analysis'],\n",
    "    async_execution=False,\n",
    "    agent=audit_planning_agent,\n",
    "    context=[business_risk_task, internal_control_task]\n",
    ")\n",
    "\n",
    "audit_strategy_task = Task(\n",
    "    config=tasks_config['audit_planning']['risk_mapping_and_audit_strategy_design'],\n",
    "    async_execution=False,\n",
    "    agent=audit_planning_agent,\n",
    "    context=[materiality_task, fraud_risk_task]\n",
    ")\n",
    "\n",
    "resource_allocation_task = Task(\n",
    "    config=tasks_config['audit_planning']['audit_team_assignment_and_resource_planning'],\n",
    "    async_execution=False,\n",
    "    agent=audit_planning_agent,\n",
    "    context=[audit_strategy_task]\n",
    ")\n",
    "\n",
    "analytical_procedures_task = Task(\n",
    "    config=tasks_config['audit_planning']['preliminary_analytical_procedures'],\n",
    "    async_execution=False,\n",
    "    agent=audit_planning_agent,\n",
    "    context=[business_risk_task, audit_strategy_task]\n",
    ")\n",
    "\n",
    "audit_plan_documentation_task = Task(\n",
    "    config=tasks_config['audit_planning']['audit_planning_documentation_and_finalization'],\n",
    "    async_execution=False,\n",
    "    agent=audit_planning_agent,\n",
    "    output_file='audit_planning_report.md',\n",
    "    context=[\n",
    "        preliminary_engagement_task,\n",
    "        business_risk_task,\n",
    "        internal_control_task,\n",
    "        materiality_task,\n",
    "        fraud_risk_task,\n",
    "        audit_strategy_task,\n",
    "        resource_allocation_task,\n",
    "        analytical_procedures_task\n",
    "    ]\n",
    ")\n",
    "\n",
    "# Creating the CrewAI Workflow\n",
    "\n",
    "audit_planning_crew = Crew(\n",
    "    agents=[audit_planning_agent],\n",
    "    tasks=[\n",
    "        preliminary_engagement_task,\n",
    "        business_risk_task,\n",
    "        internal_control_task,\n",
    "        materiality_task,\n",
    "        fraud_risk_task,\n",
    "        audit_strategy_task,\n",
    "        resource_allocation_task,\n",
    "        analytical_procedures_task,\n",
    "        audit_plan_documentation_task\n",
    "    ],\n",
    "    verbose=True\n",
    ")\n"
   ]
  },
  {
   "cell_type": "markdown",
   "id": "60caa956-a429-424f-b5cc-59ebaa21ba82",
   "metadata": {},
   "source": [
    "## Kicking off the Crew"
   ]
  },
  {
   "cell_type": "code",
   "execution_count": null,
   "id": "831a24e8-055c-4008-844b-270a76c35898",
   "metadata": {
    "height": 79
   },
   "outputs": [],
   "source": [
    "result = audit_planning_crew.kickoff(inputs={\n",
    "                'audit_firm':'AuditPulse',\n",
    "                'company_name': 'Apple Inc.',\n",
    "                'central_index_key': 320193,\n",
    "                'company_ticker': 'AAPL',\n",
    "                'year': '2024'\n",
    "            })"
   ]
  },
  {
   "cell_type": "markdown",
   "id": "bbde59f0-e97a-468c-992c-3ce4faba9bc7",
   "metadata": {},
   "source": [
    "## Report"
   ]
  },
  {
   "cell_type": "code",
   "execution_count": null,
   "id": "6396b0f6-e3ae-4a89-a3e9-ca53aa042c40",
   "metadata": {
    "height": 47
   },
   "outputs": [],
   "source": [
    "from IPython.display import display, Markdown\n",
    "display(Markdown('./output/audit_planning_report.md'))"
   ]
  }
 ],
 "metadata": {
  "kernelspec": {
   "display_name": "MultiAgentSystem",
   "language": "python",
   "name": "python3"
  },
  "language_info": {
   "codemirror_mode": {
    "name": "ipython",
    "version": 3
   },
   "file_extension": ".py",
   "mimetype": "text/x-python",
   "name": "python",
   "nbconvert_exporter": "python",
   "pygments_lexer": "ipython3",
   "version": "3.12.9"
  }
 },
 "nbformat": 4,
 "nbformat_minor": 5
}
