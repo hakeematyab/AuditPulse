{
 "cells": [
  {
   "metadata": {},
   "cell_type": "markdown",
   "source": "# Audit Planning",
   "id": "9f588ecffb43a4c0"
  },
  {
   "metadata": {},
   "cell_type": "markdown",
   "source": "## Initial Imports",
   "id": "58502a50dd187a72"
  },
  {
   "metadata": {},
   "cell_type": "code",
   "outputs": [],
   "execution_count": null,
   "source": [
    "# Warning control\n",
    "import warnings\n",
    "warnings.filterwarnings('ignore')\n",
    "\n",
    "import os\n",
    "import yaml\n",
    "from crewai import Agent, Task, Crew\n",
    "from crewai.llm import LLM"
   ],
   "id": "248ed9d0e1cf75"
  },
  {
   "metadata": {},
   "cell_type": "markdown",
   "source": "## Loading Tasks and Agents YAML files",
   "id": "9eb11bae2d1ec7c5"
  },
  {
   "metadata": {},
   "cell_type": "code",
   "outputs": [],
   "execution_count": null,
   "source": [
    "# Define file paths for YAML configurations\n",
    "files = {\n",
    "    'agents': 'config/agents.yml',\n",
    "    'tasks': 'config/tasks.yml'\n",
    "}\n",
    "\n",
    "# Load configurations from YAML files\n",
    "configs = {}\n",
    "for config_type, file_path in files.items():\n",
    "    with open(file_path, 'r') as file:\n",
    "        configs[config_type] = yaml.safe_load(file)\n",
    "\n",
    "# Assign loaded configurations to specific variables\n",
    "agents_config = configs['agents']\n",
    "tasks_config = configs['tasks']"
   ],
   "id": "4df7a1d026abbdc8"
  },
  {
   "metadata": {},
   "cell_type": "markdown",
   "source": "## Importing CrewAI Tools",
   "id": "d6486cd9e7ff9745"
  },
  {
   "metadata": {},
   "cell_type": "code",
   "outputs": [],
   "execution_count": null,
   "source": "from crewai_tools import SerperDevTool, ScrapeWebsiteTool, WebsiteSearchTool, JSONSearchTool, TXTSearchTool",
   "id": "1827496ebe0e836f"
  },
  {
   "metadata": {},
   "cell_type": "code",
   "outputs": [],
   "execution_count": null,
   "source": [
    "pcaob_guidlines_tool = JSONSearchTool(config={\n",
    "        \"llm\": {\n",
    "            \"provider\": \"vertexai\",\n",
    "            \"config\": {\n",
    "                \"model\": \"gemini-2.0-flash-lite-001\",\n",
    "            },\n",
    "        },\n",
    "        \"embedder\": {\n",
    "            \"provider\": \"vertexai\",\n",
    "            \"config\": {\n",
    "                \"model\": \"text-embedding-004\",\n",
    "            },\n",
    "        },\n",
    "    },json_path='./data/compliance.json')\n",
    "\n",
    "website_search_tool = WebsiteSearchTool(config={\n",
    "        \"llm\": {\n",
    "            \"provider\": \"vertexai\",\n",
    "            \"config\": {\n",
    "                \"model\": \"gemini-2.0-flash-lite-001\",\n",
    "            },\n",
    "        },\n",
    "        \"embedder\": {\n",
    "            \"provider\": \"vertexai\",\n",
    "            \"config\": {\n",
    "                \"model\": \"text-embedding-004\",\n",
    "            },\n",
    "        },\n",
    "    })\n",
    "auditpulse_file_tool = TXTSearchTool(config={\n",
    "        \"llm\": {\n",
    "            \"provider\": \"vertexai\",\n",
    "            \"config\": {\n",
    "                \"model\": \"gemini-2.0-flash-lite-001\",\n",
    "            },\n",
    "        },\n",
    "        \"embedder\": {\n",
    "            \"provider\": \"vertexai\",\n",
    "            \"config\": {\n",
    "                \"model\": \"text-embedding-004\",\n",
    "            },\n",
    "        },\n",
    "    },\n",
    "    file_path=\"./data/AuditPulseInfo.md\")"
   ],
   "id": "b4ab39f49e1903b0"
  },
  {
   "metadata": {},
   "cell_type": "markdown",
   "source": "## Setup Multi LLM models",
   "id": "e6c070eb6cd97c15"
  },
  {
   "metadata": {},
   "cell_type": "markdown",
   "source": "> Note: The 'llama-3.1-70b-versatil' model was deprecated. As a result, we updated it to the 'llama-3.3-70b-versatil' model in January 2025.",
   "id": "9c8ce9e4808b635a"
  },
  {
   "metadata": {},
   "cell_type": "code",
   "outputs": [],
   "execution_count": null,
   "source": [
    "llm = LLM(\n",
    "    model=\"vertex_ai/gemini-2.0-flash-lite-001\",\n",
    "    max_tokens=\t4096,\n",
    "    context_window_size=950000,\n",
    ")"
   ],
   "id": "6b819da69851943f"
  },
  {
   "metadata": {},
   "cell_type": "markdown",
   "source": "## Creating Crew, Agents, and Tasks",
   "id": "a263cdfb92815bca"
  },
  {
   "metadata": {},
   "cell_type": "code",
   "outputs": [],
   "execution_count": null,
   "source": [
    "phase = 'audit_planning'\n",
    "# Initialize Audit Planning Agent\n",
    "audit_planning_agent = Agent(\n",
    "    config=agents_config['audit_planning_agent'],\n",
    "    tools=[\n",
    "        SerperDevTool(), \n",
    "        ScrapeWebsiteTool(), \n",
    "        website_search_tool, \n",
    "        pcaob_guidlines_tool,\n",
    "        auditpulse_file_tool\n",
    "    ],\n",
    "    llm=llm,\n",
    "    respect_context_window=True,\n",
    "    max_rpm=10,\n",
    "    cache=True,\n",
    "    max_retry_limit=10\n",
    ")\n",
    "\n",
    "# Creating CrewAI Tasks\n",
    "\n",
    "preliminary_engagement_task = Task(\n",
    "    config=tasks_config['audit_planning']['preliminary_engagement_review'],\n",
    "    async_execution=False,\n",
    "    agent=audit_planning_agent,\n",
    "    output_file=f'./output/{phase}/preliminary_engagement_task.md',\n",
    ")\n",
    "\n",
    "business_risk_task = Task(\n",
    "    config=tasks_config['audit_planning']['business_risk_and_fraud_assessment'],\n",
    "    async_execution=False,\n",
    "    agent=audit_planning_agent,\n",
    "    output_file=f'./output/{phase}/business_risk_task.md',\n",
    ")\n",
    "\n",
    "internal_control_task = Task(\n",
    "    config=tasks_config['audit_planning']['internal_control_system_evaluation'],\n",
    "    async_execution=False,\n",
    "    agent=audit_planning_agent,\n",
    "    context=[preliminary_engagement_task, business_risk_task],\n",
    "    output_file=f'./output/{phase}/internal_control_task.md',\n",
    ")\n",
    "\n",
    "audit_strategy_task = Task(\n",
    "    config=tasks_config['audit_planning']['audit_strategy_and_team_allocation'],\n",
    "    async_execution=False,\n",
    "    agent=audit_planning_agent,\n",
    "    context=[internal_control_task],\n",
    "    output_file=f'./output/{phase}/audit_strategy_task.md',\n",
    ")\n",
    "\n",
    "# Creating the CrewAI Workflow\n",
    "\n",
    "audit_planning_crew = Crew(\n",
    "    agents=[audit_planning_agent],\n",
    "    tasks=[\n",
    "        preliminary_engagement_task,\n",
    "        business_risk_task,\n",
    "        internal_control_task,\n",
    "        audit_strategy_task\n",
    "    ],\n",
    "    verbose=True,\n",
    "    output_log_file=\"./logs/audit_planning.txt\"\n",
    ")"
   ],
   "id": "dec0764d95f3cdb5"
  },
  {
   "metadata": {},
   "cell_type": "markdown",
   "source": "## Kicking off the Crew",
   "id": "379795b9820badc6"
  },
  {
   "metadata": {},
   "cell_type": "code",
   "outputs": [],
   "execution_count": null,
   "source": [
    "result = audit_planning_crew.kickoff(inputs={\n",
    "                'audit_firm':'AuditPulse',\n",
    "                'company_name': 'Apple Inc.',\n",
    "                'central_index_key': 320193,\n",
    "                'company_ticker': 'AAPL',\n",
    "                'year': '2024'\n",
    "            },\n",
    "        )"
   ],
   "id": "86331a624b915e48"
  },
  {
   "metadata": {},
   "cell_type": "code",
   "outputs": [],
   "execution_count": null,
   "source": [
    "import glob\n",
    "phase = 'audit_planning'\n",
    "base_path = f'./output/{phase}'\n",
    "tasks_files = ['preliminary_engagement_task.md','business_risk_task.md','internal_control_task.md','audit_strategy_task.md']\n",
    "with open(os.path.join(base_path,'audit_planning_report.md'),'w') as final_report_file:\n",
    "    for task_file in tasks_files:\n",
    "        file = os.path.join(base_path,task_file)\n",
    "        with open(file,'r') as task_report_file:\n",
    "            final_report_file.write(task_report_file.read().lstrip('```markdown').lstrip('```').rstrip('```'))\n",
    "            final_report_file.write(f'\\n')"
   ],
   "id": "8b4b8c57b343bbdd"
  },
  {
   "metadata": {},
   "cell_type": "markdown",
   "source": "## Report",
   "id": "8efff0df34618fc2"
  },
  {
   "metadata": {},
   "cell_type": "code",
   "outputs": [],
   "execution_count": null,
   "source": [
    "from IPython.display import display, Markdown\n",
    "display(Markdown(f'./output/{phase}/audit_planning_report.md'))"
   ],
   "id": "2962243884c25111"
  },
  {
   "metadata": {},
   "cell_type": "markdown",
   "source": "## Cost",
   "id": "933a6b2c9e0cceb6"
  },
  {
   "metadata": {},
   "cell_type": "code",
   "outputs": [],
   "execution_count": null,
   "source": [
    "usage_metrics = audit_planning_crew.usage_metrics\n",
    "\n",
    "cost_per_million_prompt = 0.075\n",
    "cost_per_million_completion = 0.30\n",
    "\n",
    "prompt_cost = (usage_metrics.prompt_tokens / 1_000_000) * cost_per_million_prompt\n",
    "completion_cost = (usage_metrics.completion_tokens / 1_000_000) * cost_per_million_completion\n",
    "\n",
    "total_cost = prompt_cost + completion_cost\n",
    "print(f'Total Execution Cost: ${total_cost}')"
   ],
   "id": "ba4393ae06ee43eb"
  },
  {
   "metadata": {},
   "cell_type": "markdown",
   "source": "## Testing",
   "id": "6dd9ff5d00a82aaa"
  },
  {
   "metadata": {},
   "cell_type": "code",
   "outputs": [],
   "execution_count": null,
   "source": [
    "audit_planning_crew.test(n_iterations=3, \n",
    "                         eval_llm=llm,\n",
    "                         inputs={\n",
    "                                'audit_firm':'AuditPulse',\n",
    "                                'company_name': 'Apple Inc.',\n",
    "                                'central_index_key': 320193,\n",
    "                                'company_ticker': 'AAPL',\n",
    "                                'year': '2024'\n",
    "                            }\n",
    "                         )"
   ],
   "id": "868365947feb5339"
  },
  {
   "metadata": {},
   "cell_type": "markdown",
   "source": "## Training",
   "id": "cf88cf453c4c1509"
  },
  {
   "metadata": {},
   "cell_type": "code",
   "outputs": [],
   "execution_count": null,
   "source": [
    "audit_planning_crew.train(n_iterations=1, filename='audit_planning_crew_training.pkl')\n",
    "# audit_planning_crew.load('audit_planning_crew_training.pkl')"
   ],
   "id": "e4b3bea715a22c6c"
  }
 ],
 "metadata": {
  "kernelspec": {
   "display_name": "Python 3 (ipykernel)",
   "language": "python",
   "name": "python3"
  },
  "language_info": {
   "codemirror_mode": {
    "name": "ipython",
    "version": 3
   },
   "file_extension": ".py",
   "mimetype": "text/x-python",
   "name": "python",
   "nbconvert_exporter": "python",
   "pygments_lexer": "ipython3",
   "version": "3.11.4"
  }
 },
 "nbformat": 4,
 "nbformat_minor": 5
}
