{
 "cells": [
  {
   "cell_type": "markdown",
   "id": "bae53a09-c04c-4916-a146-00e0bb188954",
   "metadata": {},
   "source": [
    "# Client Acceptance"
   ]
  },
  {
   "cell_type": "markdown",
   "id": "ece8c6f9-763c-47ea-b8e8-65001bd08aae",
   "metadata": {},
   "source": [
    "## Initial Imports"
   ]
  },
  {
   "cell_type": "code",
   "execution_count": 1,
   "id": "41d1ce58-9d2e-4349-acbd-49227e37d31c",
   "metadata": {
    "height": 200
   },
   "outputs": [],
   "source": [
    "# Warning control\n",
    "import warnings\n",
    "warnings.filterwarnings('ignore')\n",
    "\n",
    "# Load environment variables\n",
    "from helper import load_env\n",
    "load_env()\n",
    "\n",
    "import os\n",
    "import yaml\n",
    "from crewai import Agent, Task, Crew"
   ]
  },
  {
   "cell_type": "markdown",
   "id": "dd03a195-a1a5-4667-9108-24a7f9094618",
   "metadata": {},
   "source": [
    "## Loading Tasks and Agents YAML files"
   ]
  },
  {
   "cell_type": "code",
   "execution_count": 2,
   "id": "f58e827a-8e2e-4f1d-8f8c-9486828f951d",
   "metadata": {
    "height": 268
   },
   "outputs": [],
   "source": [
    "# Define file paths for YAML configurations\n",
    "files = {\n",
    "    'agents': 'config/agents.yml',\n",
    "    'tasks': 'config/tasks.yml'\n",
    "}\n",
    "\n",
    "# Load configurations from YAML files\n",
    "configs = {}\n",
    "for config_type, file_path in files.items():\n",
    "    with open(file_path, 'r') as file:\n",
    "        configs[config_type] = yaml.safe_load(file)\n",
    "\n",
    "# Assign loaded configurations to specific variables\n",
    "agents_config = configs['agents']\n",
    "tasks_config = configs['tasks']"
   ]
  },
  {
   "cell_type": "markdown",
   "id": "e24d40ea-b1cc-42e9-bac2-1467103edfd8",
   "metadata": {},
   "source": [
    "## Importing CrewAI Tools"
   ]
  },
  {
   "cell_type": "code",
   "execution_count": 3,
   "id": "33d2c719-9823-4d12-bd87-219f5145f7dc",
   "metadata": {
    "height": 45
   },
   "outputs": [],
   "source": [
    "from crewai_tools import SerperDevTool, ScrapeWebsiteTool, WebsiteSearchTool, JSONSearchTool, FileReadTool"
   ]
  },
  {
   "cell_type": "code",
   "execution_count": 4,
   "id": "c3275f9f",
   "metadata": {
    "height": 47
   },
   "outputs": [
    {
     "name": "stderr",
     "output_type": "stream",
     "text": [
      "2025-03-13 22:02:48,091 - 140552619338624 - sqlite.py-sqlite:111 - WARNING: ⚠️ It looks like you upgraded from a version below 0.6 and could benefit from vacuuming your database. Run chromadb utils vacuum --help for more information.\n"
     ]
    }
   ],
   "source": [
    "pcaob_guidlines_tool = JSONSearchTool(json_path='./data/compliance.json')\n",
    "auditpulse_file_tool = FileReadTool(file_path=\"./data/AuditPulseInfo.md\")"
   ]
  },
  {
   "cell_type": "markdown",
   "id": "0cb0edba-dea0-4547-a61c-88ea6608c1a5",
   "metadata": {},
   "source": [
    "## Setup Multi LLM models"
   ]
  },
  {
   "cell_type": "markdown",
   "id": "5fe9d209",
   "metadata": {},
   "source": [
    "> Note: The 'llama-3.1-70b-versatil' model was deprecated. As a result, we updated it to the 'llama-3.3-70b-versatil' model in January 2025."
   ]
  },
  {
   "cell_type": "code",
   "execution_count": 5,
   "id": "a655927f-c10c-4c06-852a-d9c96fdfbfb9",
   "metadata": {
    "height": 47
   },
   "outputs": [],
   "source": [
    "os.environ['OPENAI_MODEL_NAME'] = 'gpt-4o-mini'\n",
    "groq_llm = \"groq/llama-3.3-70b-versatile\""
   ]
  },
  {
   "cell_type": "markdown",
   "id": "d71692a9-ff30-4497-a8df-25bf5b5a100e",
   "metadata": {},
   "source": [
    "## Creating Crew, Agents, and Tasks"
   ]
  },
  {
   "cell_type": "code",
   "execution_count": 7,
   "id": "403153f6",
   "metadata": {
    "height": 1594
   },
   "outputs": [],
   "source": [
    "# Initialize Client Acceptance Agent\n",
    "client_acceptance_agent = Agent(\n",
    "    config=agents_config['client_acceptance_agent'],\n",
    "    tools=[\n",
    "        SerperDevTool(), \n",
    "        ScrapeWebsiteTool(), \n",
    "        WebsiteSearchTool(), \n",
    "        pcaob_guidlines_tool,\n",
    "        auditpulse_file_tool\n",
    "    ]\n",
    ")\n",
    "\n",
    "# Creating CrewAI Tasks\n",
    "\n",
    "client_info_task = Task(\n",
    "    config=tasks_config['client_acceptance']['client_information_integrity_check'],\n",
    "    async_execution=True,\n",
    "    agent=client_acceptance_agent\n",
    ")\n",
    "\n",
    "client_integrity_task = Task(\n",
    "    config=tasks_config['client_acceptance']['client_integrity_background_check'],\n",
    "    async_execution=True,\n",
    "    agent=client_acceptance_agent\n",
    ")\n",
    "\n",
    "financial_risk_task = Task(\n",
    "    config=tasks_config['client_acceptance']['financial_risk_independence_assessment'],\n",
    "    async_execution=False,\n",
    "    agent=client_acceptance_agent,\n",
    "    context=[client_info_task]\n",
    ")\n",
    "\n",
    "auditor_independence_task = Task(\n",
    "    config=tasks_config['client_acceptance']['auditor_independence_verification'],\n",
    "    async_execution=False,\n",
    "    agent=client_acceptance_agent,\n",
    "    context=[client_info_task, financial_risk_task])\n",
    "\n",
    "competence_task = Task(\n",
    "    config=tasks_config['client_acceptance']['competence_predecessor_auditor_review'],\n",
    "    async_execution=False,\n",
    "    agent=client_acceptance_agent,\n",
    "    context=[auditor_independence_task]\n",
    ")\n",
    "\n",
    "engagement_scope_task = Task(\n",
    "    config=tasks_config['client_acceptance']['engagement_scope_regulatory_compliance'],\n",
    "    async_execution=False,\n",
    "    agent=client_acceptance_agent,\n",
    "    context=[competence_task, financial_risk_task]  \n",
    ")\n",
    "\n",
    "final_risk_aggregation_task = Task(\n",
    "    config=tasks_config['client_acceptance']['final_risk_aggregation_decision_modeling'],\n",
    "    async_execution=False,\n",
    "    agent=client_acceptance_agent,\n",
    "    output_file='client_acceptance_report.md',\n",
    "    context=[\n",
    "        client_info_task, \n",
    "        client_integrity_task,\n",
    "        financial_risk_task,\n",
    "        auditor_independence_task,\n",
    "        competence_task,\n",
    "        engagement_scope_task,\n",
    "    ]\n",
    ")\n",
    "\n",
    "documentation_task = Task(\n",
    "    config=tasks_config['client_acceptance']['engagement_letter_documentation'],\n",
    "    async_execution=False,\n",
    "    agent=client_acceptance_agent,\n",
    "    output_file='engagement_letter.md',\n",
    "    context=[final_risk_aggregation_task]\n",
    ")\n",
    "\n",
    "# Creating the CrewAI Workflow\n",
    "\n",
    "client_acceptance_crew = Crew(\n",
    "    agents=[client_acceptance_agent],\n",
    "    tasks=[\n",
    "        client_info_task,\n",
    "        client_integrity_task,\n",
    "        financial_risk_task,\n",
    "        auditor_independence_task,\n",
    "        competence_task,\n",
    "        engagement_scope_task,\n",
    "        final_risk_aggregation_task,\n",
    "        documentation_task\n",
    "    ],\n",
    "    verbose=True\n",
    ")\n"
   ]
  },
  {
   "cell_type": "markdown",
   "id": "60caa956-a429-424f-b5cc-59ebaa21ba82",
   "metadata": {},
   "source": [
    "## Kicking off the Crew"
   ]
  },
  {
   "cell_type": "code",
   "execution_count": null,
   "id": "831a24e8-055c-4008-844b-270a76c35898",
   "metadata": {
    "height": 79
   },
   "outputs": [
    {
     "name": "stdout",
     "output_type": "stream",
     "text": [
      "\u001b[1m\u001b[95m# Agent:\u001b[00m \u001b[1m\u001b[92mDirector of Client Acceptance and Risk Management\u001b[00m\n",
      "\u001b[95m## Task:\u001b[00m \u001b[92mGather and verify preliminary client information for Apple Inc. (AAPL), identified by central index key 320193. Ensure that all information used  in the evaluation is from 2024 or earlier. Perform conflict of interest checks  to verify compliance with independence standards. Identify any initial risk factors  or ethical concerns that may affect the engagement decision. Search and extract relevant  information from multiple independent sources, cross-referencing details for consistency  and corroboration. Utilize PCAOB guidelines as outlined in the json provided to assess the integrity and reputation of the  prospective client’s management and owners.\n",
      "\u001b[00m\n"
     ]
    }
   ],
   "source": [
    "result = client_acceptance_crew.kickoff(inputs={\n",
    "                'audit_firm':'AuditPulse',\n",
    "                'company_name': 'Apple Inc.',\n",
    "                'central_index_key': 320193,\n",
    "                'company_ticker': 'AAPL',\n",
    "                'year': '2024'\n",
    "            })"
   ]
  },
  {
   "cell_type": "markdown",
   "id": "bbde59f0-e97a-468c-992c-3ce4faba9bc7",
   "metadata": {},
   "source": [
    "## Report"
   ]
  },
  {
   "cell_type": "code",
   "execution_count": 1,
   "id": "6396b0f6-e3ae-4a89-a3e9-ca53aa042c40",
   "metadata": {
    "height": 47
   },
   "outputs": [
    {
     "data": {
      "text/markdown": [
       "# Comprehensive Final Client Acceptance Risk Report for Apple Inc. (AAPL)\n",
       "\n",
       "## Preliminary Information Gathering & Conflict Check\n",
       "\n",
       "In conducting a thorough preliminary information gathering regarding Apple Inc. (AAPL), it is critical to assess the company within the context of its industry, market position, and existing regulatory frameworks. Apple operates within the highly competitive technology sector, specifically in consumer electronics and software. The research reveals a robust financial performance, with revenues reported at approximately $383 billion and a net income of around $90 billion for the fiscal year ending 2024. This financial stability enhances Apple’s appeal as a client while also indicating substantial financial reporting obligations under SEC regulations.\n",
       "\n",
       "A conflict check was diligently performed, analyzing relationships with stakeholders, board members, and major shareholders. Apple's governance structure is notable for its policies aimed at mitigating conflicts of interest and ensuring ethical conduct. The conflict check reveals no significant findings that would impede the audit engagement, emphasizing that the firm can pursue this opportunity without compromising independence or ethical standards. This process aligns with PCAOB guidance to ensure that the audit firm maintains integrity and objectivity in its client relationships, crucial for safeguarding both the firm’s reputation and compliance with regulatory obligations.\n",
       "\n",
       "## Client Integrity & Background Check\n",
       "\n",
       "Apple Inc. maintains a high level of integrity fostered by a comprehensive ethical framework and strong corporate governance. However, integrity concerns have been raised in the context of litigation issues, particularly related to antitrust practices and labor relations. The company's management, headed by Tim Cook, is generally perceived as credible. Nevertheless, historical scrutiny concerning Apple’s tax practices and treatment of employees necessitates careful consideration. \n",
       "\n",
       "The background check indicates that while there are litigation concerns over antitrust allegations, particularly from the U.S. Department of Justice regarding monopolistic practices, Apple's internal controls and compliance measures have been thoroughly documented, ensuring accountability in its operations. Additionally, the company has established procedures to handle and mitigate ethical risks associated with its market behavior. While the litigation presents reputational risks, Apple’s commitment to compliance and ethical conduct remains a strong point in its integrity assessment.\n",
       "\n",
       "## Financial Health & Risk Assessment\n",
       "\n",
       "Apple Inc. presents a robust financial profile, with a healthy balance sheet characterized by total assets amounting to $354 billion. The company exhibits strong cash flows and earnings capacity, as evidenced by its earnings per share (EPS) at $5.56. Moreover, internal control assessments and adherence to PCAOB standards further assure stakeholders of the integrity of its financial reporting processes. This exemplary financial health mitigates the operational risks and positions Apple favorably concerning engagement viability.\n",
       "\n",
       "However, it is essential to acknowledge potential financial risks, especially regarding credit risk associated with trade receivables, which can be influenced by adverse economic conditions. While current financial metrics indicate resilience, the firm may experience exposure to market fluctuations and litigation expenses if ongoing legal battles are not resolved favorably. Given these considerations, a thorough financial risk assessment indicates that while there are positive indicators, vigilance is necessary concerning market and operational uncertainties.\n",
       "\n",
       "## Auditor Independence Check\n",
       "\n",
       "The independence check for the potential audit engagement with Apple Inc. shows no existing financial relationships or prior engagements that could compromise independence. AuditPulse has established strict adherence to PCAOB and SEC independence requirements, ensuring that all audit team members maintain impartiality in relation to the client. The firm’s history with safeguarding auditor independence is underpinned by its policies that prioritize ethical engagement with clients.\n",
       "\n",
       "During the assessment, no independence threats were identified, including any significant relationships or interests that may impair objectivity. The continuous oversight of personnel assignments has been well-documented, ensuring that rotation and independence protocols are implemented in line with statutory requirements. The lack of independence issues enables the engagement team to proceed confidently, reinforcing the firm's credibility in delivering quality audit services.\n",
       "\n",
       "## Firm Competence & Resource Assessment\n",
       "\n",
       "AuditPulse demonstrates substantial competence in executing audits for high-profile technology firms, showcasing a vast array of resources. The firm has a robust team equipped with advanced technological capabilities, including the use of AI and data analytics to enhance audit efficiency and accuracy. AuditPulse's recent adaptations and training programs for staff further support its ability to manage complex financial environments like that of Apple Inc.\n",
       "\n",
       "The firm’s experience with prior engagements in the technology sector reinforces its understanding of the unique financial reporting requirements and risks associated with Apple’s diverse operations. A strong emphasis on professional development and resource allocation marks AuditPulse as a reliable firm capable of navigating the intricacies of Apple’s operational landscape while maintaining a high standard of audit quality.\n",
       "\n",
       "## Predecessor Auditor Review\n",
       "\n",
       "In reviewing the previous auditor relationship between Apple and KPMG, no significant disagreements have been noted. KPMG’s performance history indicates thorough and professional audit practices, with clean opinions in their past reports. The transition to AuditPulse after a competitive bidding process demonstrates good governance and a commitment to maintaining quality in audit services. \n",
       "\n",
       "This continuity and favorable prior audit outcomes bode well for the forthcoming engagement. However, it remains critical for the current engagement to incorporate learnings from previous audits, especially with regards to managing financial complexities and the litigation landscape. Understanding the predecessor auditor's insights will be beneficial in tailoring the audit approach to optimize risk management.\n",
       "\n",
       "## Engagement Scope & Risk Evaluation\n",
       "\n",
       "The audit will focus on high-risk areas, including complex transactions, compliance with regulatory requirements, and internal control effectiveness. Given Apple’s extensive international operations and chain of subsidiaries, addressing the financial consolidation procedures will be prioritized. Risks from ongoing litigation, particularly related to antitrust cases, will also be closely monitored. \n",
       "\n",
       "The engagement framework will ensure ongoing compliance with PCAOB standards while emphasizing data-driven analytical approaches to risk assessment. The firm will execute substantive testing on significant accounts and transactions that may impact the financial narratives reported by Apple. This proactive approach aims to mitigate risks and enhance the reliability of financial statements.\n",
       "\n",
       "## Documented Decision on Acceptance\n",
       "\n",
       "Based on the comprehensive risk assessment conducted, Apple Inc. (AAPL) presents a strong client profile characterized by solid financial health and adherence to ethical standards despite existing integrity concerns stemming from legal disputes. The absence of significant independence threats and the firm’s demonstrated capacity to manage audit complexities converge to warrant acceptance of this engagement. \n",
       "\n",
       "However, it is recommended that engagement retain conditional acceptance status, with ongoing monitoring of legal litigations and operational risks. Implementing safeguards, including regular reviews of compliance and ethical practices, will reinforce the engagement's integrity while ensuring adherence to PCAOB guidelines and best practices. \n",
       "\n",
       "In conclusion, the engagement with Apple Inc. should proceed, given the well-structured risk management strategies outlined, ensuring that any residual risks are actively mitigated throughout the audit lifecycle. AuditPulse is equipped with the necessary resources, knowledge, and commitment to deliver a high-quality audit that adheres to prevailing regulations and industry standards."
      ],
      "text/plain": [
       "<IPython.core.display.Markdown object>"
      ]
     },
     "metadata": {},
     "output_type": "display_data"
    }
   ],
   "source": [
    "from IPython.display import display, Markdown\n",
    "display(Markdown('./output/client_acceptance_report.md'))"
   ]
  },
  {
   "cell_type": "code",
   "execution_count": null,
   "id": "da1bbf90-4bfc-4529-84dd-d0bd00198353",
   "metadata": {
    "height": 30
   },
   "outputs": [],
   "source": [
    "from IPython.display import display, Markdown\n",
    "display(Markdown('./output/engagement_letter.md'))"
   ]
  }
 ],
 "metadata": {
  "kernelspec": {
   "display_name": "Python 3",
   "language": "python",
   "name": "python3"
  },
  "language_info": {
   "codemirror_mode": {
    "name": "ipython",
    "version": 3
   },
   "file_extension": ".py",
   "mimetype": "text/x-python",
   "name": "python",
   "nbconvert_exporter": "python",
   "pygments_lexer": "ipython3",
   "version": "3.11.6"
  }
 },
 "nbformat": 4,
 "nbformat_minor": 5
}
